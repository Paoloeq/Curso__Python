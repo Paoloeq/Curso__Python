{
 "cells": [
  {
   "cell_type": "code",
   "execution_count": 3,
   "id": "d9173297-8dbf-4521-a46d-5b44d80d80a3",
   "metadata": {},
   "outputs": [],
   "source": [
    "#CREAMOS ARCHIVOS CSV CON DATOS"
   ]
  },
  {
   "cell_type": "code",
   "execution_count": 2,
   "id": "a591d73e-ef9a-4fd3-98a9-0389a816fde9",
   "metadata": {},
   "outputs": [],
   "source": [
    "import csv\n",
    "with open('seguidores.csv',mode='w', newline='') as seguidores:\n",
    "    writer = csv.writer(seguidores)\n",
    "    writer.writerow([\"@charlidamelio\",\"Charlie\", 108.1])\n",
    "    writer.writerow([\"@addisonre\" ,\"Addison\", 76.4])\n",
    "    writer.writerow([\"@zachking\", \"Zach\", 56.6])\n",
    "    writer.writerow([\"@bellapoarch\", \"Bella\", 56.3])\n",
    "    "
   ]
  },
  {
   "cell_type": "code",
   "execution_count": 4,
   "id": "e61eb42f-e0ce-4145-8773-7d9d6e2447a2",
   "metadata": {},
   "outputs": [],
   "source": [
    "#LEEMOS ARCHIVOS CSV"
   ]
  },
  {
   "cell_type": "code",
   "execution_count": 7,
   "id": "c54f6d35-9670-4876-b0c4-f946dac0d8f1",
   "metadata": {},
   "outputs": [
    {
     "name": "stdout",
     "output_type": "stream",
     "text": [
      "handle              nombre      num_segu\n",
      "@charlidamelio      Charlie        108.1\n",
      "@addisonre          Addison         76.4\n",
      "@zachking           Zach            56.6\n",
      "@bellapoarch        Bella           56.3\n"
     ]
    }
   ],
   "source": [
    "with open('seguidores.csv', mode='r', newline='') as seguidores:\n",
    "    print(f'{\"handle\":<20}{\"nombre\":<10}{\"num_segu\":>10}')# poner enl encabezado\n",
    "    lectura = csv.reader(seguidores) #poner todod el csv en una variable\n",
    "    for fila in lectura:\n",
    "        handle , nombre, numseg = fila #asigna el contenido de la fila a las variables handle, nombre, numseg\n",
    "        print(f'{handle:<20}{nombre:<10}{numseg:>10}')"
   ]
  },
  {
   "cell_type": "code",
   "execution_count": null,
   "id": "2e5c6d68-dda8-4978-9651-6c028881448f",
   "metadata": {},
   "outputs": [],
   "source": []
  }
 ],
 "metadata": {
  "kernelspec": {
   "display_name": "Python 3 (ipykernel)",
   "language": "python",
   "name": "python3"
  },
  "language_info": {
   "codemirror_mode": {
    "name": "ipython",
    "version": 3
   },
   "file_extension": ".py",
   "mimetype": "text/x-python",
   "name": "python",
   "nbconvert_exporter": "python",
   "pygments_lexer": "ipython3",
   "version": "3.9.13"
  }
 },
 "nbformat": 4,
 "nbformat_minor": 5
}
