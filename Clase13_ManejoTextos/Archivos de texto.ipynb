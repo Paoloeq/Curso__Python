{
 "cells": [
  {
   "cell_type": "code",
   "execution_count": 1,
   "id": "6ba684fd-aafe-42fc-b32b-9f0fc5f49f00",
   "metadata": {},
   "outputs": [],
   "source": [
    "#CREAR ARCHIVO DE TEXTO Y PONER INFORMACIÓN"
   ]
  },
  {
   "cell_type": "code",
   "execution_count": 2,
   "id": "1eaa8c3c-ce9e-4a19-8768-dc350cdbace1",
   "metadata": {},
   "outputs": [],
   "source": [
    "with open('seguidores.txt',mode='w') as seguidores:\n",
    "    seguidores.write(\"@charlidamelio D'Amelio 108.1\\n\")\n",
    "    seguidores.write(\"@addisonre Addison 76.4\\n\")\n",
    "    seguidores.write(\"@zachking Zach 56.6\\n\")\n",
    "    seguidores.write(\"@bellapoarch Bella 56.3\\n\")"
   ]
  },
  {
   "cell_type": "code",
   "execution_count": 18,
   "id": "0481faf1-93fb-4bc2-a854-debe873cf6ef",
   "metadata": {},
   "outputs": [],
   "source": [
    "#LEER UN ARCHIVO EN IMPRIMIRINFORMACIÓN EN FORMA DE TABLA"
   ]
  },
  {
   "cell_type": "code",
   "execution_count": 17,
   "id": "055fe276-f5e5-460b-874f-d8eb9a98b082",
   "metadata": {},
   "outputs": [
    {
     "name": "stdout",
     "output_type": "stream",
     "text": [
      "Handle              Nombre       num-seg\n",
      "@charlidamelio      D'Amelio       108.1\n",
      "@addisonre          Addison         76.4\n",
      "@zachking           Zach            56.6\n",
      "@bellapoarch        Bella           56.3\n"
     ]
    }
   ],
   "source": [
    "with open('seguidores.txt', mode='r') as seguidores:\n",
    "    print(f'{\"Handle\":<20}{\"Nombre\":<10}{\"num-seg\":>10}')\n",
    "    for record in seguidores:\n",
    "        handle,nombre,num_segu=record.split()\n",
    "        print(f'{handle:<20}{nombre:<10}{num_segu:>10}')"
   ]
  },
  {
   "cell_type": "code",
   "execution_count": 3,
   "id": "ce130418-9c20-45ff-b27b-158b158d88c2",
   "metadata": {},
   "outputs": [],
   "source": [
    "seguidores = open(\"seguidores.txt\",\"r\")\n",
    "temporal  = open (\"temporal.txt\",\"w\")\n",
    "\n",
    "with seguidores, temporal:\n",
    "    for renglon in seguidores: #lee renglon como un renglón del documento de seguidores\n",
    "        handle, nombre, num_seg = renglon.split() #asigna cada palabra del record (record.split()) a las variables handl, nombre, num_seg\n",
    "        if handle!=\"@charlidamelio\":\n",
    "            temporal.write(renglon)\n",
    "        else:\n",
    "            nuevo_nombre = \" \".join([handle,\"Charlie\", num_seg])# el \" \" es el espacio de cada palabra luego de juntarlas\n",
    "            temporal.write(nuevo_nombre+\"\\n\")\n",
    "            "
   ]
  },
  {
   "cell_type": "code",
   "execution_count": null,
   "id": "777743da-c9ec-486c-af30-94f126a52d9b",
   "metadata": {},
   "outputs": [],
   "source": []
  }
 ],
 "metadata": {
  "kernelspec": {
   "display_name": "Python 3 (ipykernel)",
   "language": "python",
   "name": "python3"
  },
  "language_info": {
   "codemirror_mode": {
    "name": "ipython",
    "version": 3
   },
   "file_extension": ".py",
   "mimetype": "text/x-python",
   "name": "python",
   "nbconvert_exporter": "python",
   "pygments_lexer": "ipython3",
   "version": "3.9.13"
  }
 },
 "nbformat": 4,
 "nbformat_minor": 5
}
